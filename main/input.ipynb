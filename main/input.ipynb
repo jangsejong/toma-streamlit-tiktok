{
 "cells": [
  {
   "cell_type": "code",
   "execution_count": null,
   "metadata": {},
   "outputs": [],
   "source": [
    "import numpy as np\n",
    "import pandas as pd \n",
    "import matplotlib.pyplot as plt\n",
    "import streamlit as st"
   ]
  },
  {
   "cell_type": "code",
   "execution_count": null,
   "metadata": {},
   "outputs": [],
   "source": [
    "DATA_PATH = 'C:\\streamlit-tiktok\\toma-streamlit-tiktok\\toma-streamlit-tiktok\\csv\\bq-results-20230329-085959-1680080406863.csv'\n",
    "tiktok_dataset = pd.read_csv(f'{DATA_PATH}train.csv')"
   ]
  },
  {
   "cell_type": "code",
   "execution_count": null,
   "metadata": {},
   "outputs": [],
   "source": [
    "df= pd.DataFrame(data=tiktok_dataset.data,columns= tiktok_dataset.feature_names)\n",
    "# df.columns= [ col_name.split(' (cm)')[0] for col_name in df.columns] # 컬럼명을 뒤에 cm 제거하였습니다\n",
    "df['species']= tiktok_dataset.target "
   ]
  },
  {
   "cell_type": "code",
   "execution_count": null,
   "metadata": {},
   "outputs": [],
   "source": [
    "species_dict = {0 :'collected_videos_count', 1 :'collection_time', 2 :'influencer_id',\n",
    "                3 :'profile_pic_url_hd', 4 : 'id', 5 : 'nickname', 6 : 'followers', 7 : 'hearts', 8 : 'videos_count'} "
   ]
  },
  {
   "cell_type": "code",
   "execution_count": null,
   "metadata": {},
   "outputs": [],
   "source": [
    "def mapp_species(x):\n",
    "  return species_dict[x]"
   ]
  },
  {
   "cell_type": "code",
   "execution_count": null,
   "metadata": {},
   "outputs": [],
   "source": [
    "df['species'] = df['species'].apply(mapp_species)\n",
    "print(df)"
   ]
  }
 ],
 "metadata": {
  "language_info": {
   "name": "python"
  },
  "orig_nbformat": 4
 },
 "nbformat": 4,
 "nbformat_minor": 2
}
