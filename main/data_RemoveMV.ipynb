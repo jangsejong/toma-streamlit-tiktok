{
 "cells": [
  {
   "cell_type": "code",
   "execution_count": 20,
   "metadata": {},
   "outputs": [],
   "source": [
    "import numpy as np\n",
    "import pandas as pd \n",
    "import matplotlib.pyplot as plt\n",
    "import streamlit as st"
   ]
  },
  {
   "cell_type": "code",
   "execution_count": 46,
   "metadata": {},
   "outputs": [
    {
     "name": "stderr",
     "output_type": "stream",
     "text": [
      "C:\\Users\\jangs\\AppData\\Local\\Temp\\ipykernel_9708\\1082146658.py:2: DtypeWarning: Columns (3) have mixed types. Specify dtype option on import or set low_memory=False.\n",
      "  tiktok_dataset = pd.read_csv(f'{DATA_PATH}bq-results-20230329-085959-1680080406863.csv', encoding='utf-8')\n"
     ]
    }
   ],
   "source": [
    "DATA_PATH = 'C:/streamlit-tiktok/toma-streamlit-tiktok/toma-streamlit-tiktok/csv/'\n",
    "tiktok_dataset = pd.read_csv(f'{DATA_PATH}bq-results-20230329-085959-1680080406863.csv', encoding='utf-8')"
   ]
  },
  {
   "cell_type": "code",
   "execution_count": 47,
   "metadata": {},
   "outputs": [
    {
     "name": "stdout",
     "output_type": "stream",
     "text": [
      "collected_videos_count에서 결측치 개수 : 6757개\n",
      "  collection_time   에서 결측치 개수 : 6757개\n",
      "   influencer_id    에서 결측치 개수 : 6757개\n",
      " profile_pic_url_hd 에서 결측치 개수 : 83573개\n",
      "         id         에서 결측치 개수 : 6757개\n",
      "      nickname      에서 결측치 개수 : 6757개\n",
      "     followers      에서 결측치 개수 : 6757개\n",
      "       hearts       에서 결측치 개수 : 6757개\n",
      "    videos_count    에서 결측치 개수 : 6757개\n"
     ]
    }
   ],
   "source": [
    "for col in tiktok_dataset.columns:\n",
    "    n_nan = tiktok_dataset[col].isnull().sum()\n",
    "    if n_nan>0:\n",
    "      msg = '{:^20}에서 결측치 개수 : {}개'.format(col,n_nan)\n",
    "      print(msg)"
   ]
  },
  {
   "cell_type": "code",
   "execution_count": 56,
   "metadata": {},
   "outputs": [],
   "source": [
    "dt_tiktok = tiktok_dataset.drop([tiktok_dataset.columns[3]],axis=1)"
   ]
  },
  {
   "cell_type": "code",
   "execution_count": 71,
   "metadata": {},
   "outputs": [
    {
     "data": {
      "text/plain": [
       "(91726, 8)"
      ]
     },
     "execution_count": 71,
     "metadata": {},
     "output_type": "execute_result"
    }
   ],
   "source": [
    "DF_tiktok = pd.DataFrame(data=dt_tiktok, index=None, columns=None, dtype=None, copy=False)\n",
    "DF_tiktok.shape\n"
   ]
  },
  {
   "cell_type": "code",
   "execution_count": 58,
   "metadata": {},
   "outputs": [
    {
     "name": "stdout",
     "output_type": "stream",
     "text": [
      "collected_videos_count에서 결측치 개수 : 6757개\n",
      "  collection_time   에서 결측치 개수 : 6757개\n",
      "   influencer_id    에서 결측치 개수 : 6757개\n",
      "         id         에서 결측치 개수 : 6757개\n",
      "      nickname      에서 결측치 개수 : 6757개\n",
      "     followers      에서 결측치 개수 : 6757개\n",
      "       hearts       에서 결측치 개수 : 6757개\n",
      "    videos_count    에서 결측치 개수 : 6757개\n"
     ]
    }
   ],
   "source": [
    "for col in DF_tiktok.columns:\n",
    "    n_nan = DF_tiktok[col].isnull().sum()\n",
    "    if n_nan>0:\n",
    "      msg = '{:^20}에서 결측치 개수 : {}개'.format(col,n_nan)\n",
    "      print(msg)"
   ]
  },
  {
   "cell_type": "code",
   "execution_count": 70,
   "metadata": {},
   "outputs": [
    {
     "data": {
      "text/plain": [
       "(91726, 0)"
      ]
     },
     "execution_count": 70,
     "metadata": {},
     "output_type": "execute_result"
    }
   ],
   "source": [
    "DF_tiktok = DF_tiktok.dropna(axis = 0)\n",
    "DF_tiktok.shape"
   ]
  },
  {
   "cell_type": "code",
   "execution_count": 66,
   "metadata": {},
   "outputs": [],
   "source": [
    "for col in DF_tiktok.columns:\n",
    "    n_nan = DF_tiktok[col].isnull().sum()\n",
    "    if n_nan>0:\n",
    "      msg = '{:^20}에서 결측치 개수 : {}개'.format(col,n_nan)\n",
    "      print(msg)"
   ]
  }
 ],
 "metadata": {
  "kernelspec": {
   "display_name": "Python 3",
   "language": "python",
   "name": "python3"
  },
  "language_info": {
   "codemirror_mode": {
    "name": "ipython",
    "version": 3
   },
   "file_extension": ".py",
   "mimetype": "text/x-python",
   "name": "python",
   "nbconvert_exporter": "python",
   "pygments_lexer": "ipython3",
   "version": "3.11.2"
  },
  "orig_nbformat": 4
 },
 "nbformat": 4,
 "nbformat_minor": 2
}
