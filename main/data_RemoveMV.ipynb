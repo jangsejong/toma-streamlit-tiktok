{
 "cells": [
  {
   "cell_type": "code",
   "execution_count": 56,
   "metadata": {},
   "outputs": [],
   "source": [
    "import numpy as np\n",
    "import pandas as pd \n",
    "import matplotlib.pyplot as plt\n",
    "import streamlit as st"
   ]
  },
  {
   "attachments": {},
   "cell_type": "markdown",
   "metadata": {},
   "source": [
    "Data Prepration"
   ]
  },
  {
   "cell_type": "code",
   "execution_count": 46,
   "metadata": {},
   "outputs": [
    {
     "name": "stderr",
     "output_type": "stream",
     "text": [
      "C:\\Users\\jangs\\AppData\\Local\\Temp\\ipykernel_12632\\3654686385.py:2: DtypeWarning: Columns (3) have mixed types. Specify dtype option on import or set low_memory=False.\n",
      "  tiktok_dataset = pd.read_csv(f'{DATA_PATH}bq-results-20230329-085959-1680080406863.csv', encoding='utf-8')\n"
     ]
    }
   ],
   "source": [
    "DATA_PATH = 'C:/streamlit-tiktok/toma-streamlit-tiktok/toma-streamlit-tiktok/csv/'\n",
    "tiktok_dataset = pd.read_csv(f'{DATA_PATH}bq-results-20230329-085959-1680080406863.csv', encoding='utf-8')"
   ]
  },
  {
   "cell_type": "code",
   "execution_count": 47,
   "metadata": {},
   "outputs": [
    {
     "name": "stdout",
     "output_type": "stream",
     "text": [
      "collected_videos_count에서 결측치 개수 : 6757개\n",
      "  collection_time   에서 결측치 개수 : 6757개\n",
      "   influencer_id    에서 결측치 개수 : 6757개\n",
      " profile_pic_url_hd 에서 결측치 개수 : 83573개\n",
      "         id         에서 결측치 개수 : 6757개\n",
      "      nickname      에서 결측치 개수 : 6757개\n",
      "     followers      에서 결측치 개수 : 6757개\n",
      "       hearts       에서 결측치 개수 : 6757개\n",
      "    videos_count    에서 결측치 개수 : 6757개\n"
     ]
    }
   ],
   "source": [
    "for col in tiktok_dataset.columns:\n",
    "    n_nan = tiktok_dataset[col].isnull().sum()\n",
    "    if n_nan>0:\n",
    "      msg = '{:^20}에서 결측치 개수 : {}개'.format(col,n_nan)\n",
    "      print(msg)"
   ]
  },
  {
   "cell_type": "code",
   "execution_count": 48,
   "metadata": {},
   "outputs": [],
   "source": [
    "dt_tiktok = tiktok_dataset.drop([tiktok_dataset.columns[3]],axis=1)"
   ]
  },
  {
   "cell_type": "code",
   "execution_count": 49,
   "metadata": {},
   "outputs": [
    {
     "data": {
      "text/plain": [
       "(84969, 8)"
      ]
     },
     "execution_count": 49,
     "metadata": {},
     "output_type": "execute_result"
    }
   ],
   "source": [
    "DF_tiktok1 = DF_tiktok[DF_tiktok['influencer_id'].notna()]\n",
    "DF_tiktok1.shape"
   ]
  },
  {
   "cell_type": "code",
   "execution_count": 50,
   "metadata": {},
   "outputs": [
    {
     "name": "stdout",
     "output_type": "stream",
     "text": [
      "결측치가 없습니다.\n",
      "결측치가 없습니다.\n",
      "결측치가 없습니다.\n",
      "결측치가 없습니다.\n",
      "결측치가 없습니다.\n",
      "결측치가 없습니다.\n",
      "결측치가 없습니다.\n",
      "결측치가 없습니다.\n"
     ]
    }
   ],
   "source": [
    "for col in DF_tiktok1.columns:\n",
    "    n_nan = DF_tiktok1[col].isnull().sum()\n",
    "    if n_nan>0:\n",
    "      msg = '{:^20}에서 결측치 개수 : {}개'.format(col,n_nan)\n",
    "      print(msg)\n",
    "    else:\n",
    "      print('결측치가 없습니다.')"
   ]
  },
  {
   "cell_type": "code",
   "execution_count": 55,
   "metadata": {},
   "outputs": [
    {
     "name": "stdout",
     "output_type": "stream",
     "text": [
      "       collected_videos_count  collection_time  influencer_id  \\\n",
      "234                       0.0     1.674149e+12   6.790741e+18   \n",
      "235                       0.0     1.674150e+12   6.541867e+16   \n",
      "236                       0.0     1.674150e+12   6.656208e+18   \n",
      "237                       0.0     1.674149e+12   6.696405e+18   \n",
      "238                       0.0     1.674149e+12   7.103947e+18   \n",
      "...                       ...              ...            ...   \n",
      "91721                    10.0     1.678555e+12   6.735398e+18   \n",
      "91722                    10.0     1.678556e+12   6.786789e+10   \n",
      "91723                    10.0     1.678555e+12   6.698975e+18   \n",
      "91724                    10.0     1.678555e+12   6.795390e+18   \n",
      "91725                    10.0     1.678555e+12   6.740171e+18   \n",
      "\n",
      "                    id         nickname  followers       hearts  videos_count  \n",
      "234        linhngadang    Linh Nga Dang       42.0          0.0           0.0  \n",
      "235         zynzgyniee         Khánh Hà      177.0          0.0           0.0  \n",
      "236       chinghateyou      Ching ching      274.0       1931.0           0.0  \n",
      "237             _myiin     Hương Nguyễn       23.0         95.0           0.0  \n",
      "238            vzminah          vzminah        1.0          0.0           0.0  \n",
      "...                ...              ...        ...          ...           ...  \n",
      "91721  dinhtrangthao03  Đinh Trang Thảo  7700000.0  262000000.0         767.0  \n",
      "91722   thieulan.cameo      Thiếu Lan 🦋     1978.0       8778.0          18.0  \n",
      "91723        1oak.club        1oak.club     8211.0      83900.0          29.0  \n",
      "91724     nhungbumxynk      Nhung Bum 🎀     7793.0     132400.0          40.0  \n",
      "91725     sovintage.vn       Sò Vintage     4996.0        469.0          73.0  \n",
      "\n",
      "[84969 rows x 8 columns]\n"
     ]
    }
   ],
   "source": [
    "DF_tiktok1 = pd.DataFrame(data=DF_tiktok1, index=None, columns=None, dtype=None, copy=False)\n",
    "DF_tiktok1.shape\n",
    "DF_tiktok1.columns\n",
    "print(DF_tiktok1)\n"
   ]
  },
  {
   "cell_type": "code",
   "execution_count": 60,
   "metadata": {},
   "outputs": [],
   "source": [
    "import pandas as pd\n",
    "import numpy as np\n",
    "import seaborn as sns\n",
    "import sklearn\n",
    "import json\n",
    "import pickle\n",
    "import plotly.express as px\n",
    "import plotly.graph_objects as go\n",
    "from plotly.offline import init_notebook_mode, iplot, plot\n",
    "from plotly.subplots import make_subplots\n",
    "import matplotlib.pyplot as plt\n",
    "import matplotlib\n",
    "from sklearn.model_selection import cross_val_score\n",
    "from sklearn.ensemble import ExtraTreesRegressor\n",
    "\n",
    "%matplotlib inline\n",
    "import warnings\n",
    "warnings.filterwarnings('ignore')\n"
   ]
  },
  {
   "cell_type": "code",
   "execution_count": 64,
   "metadata": {},
   "outputs": [
    {
     "name": "stdout",
     "output_type": "stream",
     "text": [
      "<class 'pandas.core.frame.DataFrame'>\n",
      "Int64Index: 84969 entries, 234 to 91725\n",
      "Data columns (total 8 columns):\n",
      " #   Column                  Non-Null Count  Dtype  \n",
      "---  ------                  --------------  -----  \n",
      " 0   collected_videos_count  84969 non-null  float64\n",
      " 1   collection_time         84969 non-null  float64\n",
      " 2   influencer_id           84969 non-null  float64\n",
      " 3   id                      84969 non-null  object \n",
      " 4   nickname                84969 non-null  object \n",
      " 5   followers               84969 non-null  float64\n",
      " 6   hearts                  84969 non-null  float64\n",
      " 7   videos_count            84969 non-null  float64\n",
      "dtypes: float64(6), object(2)\n",
      "memory usage: 5.8+ MB\n"
     ]
    },
    {
     "data": {
      "text/plain": [
       "(84969, 8)"
      ]
     },
     "execution_count": 64,
     "metadata": {},
     "output_type": "execute_result"
    }
   ],
   "source": [
    "df_tiktok_dataset = DF_tiktok1\n",
    "df_tiktok_dataset.head(5)\n",
    "df_tiktok_dataset.info()\n",
    "df_tiktok_dataset.shape"
   ]
  },
  {
   "cell_type": "code",
   "execution_count": 71,
   "metadata": {},
   "outputs": [
    {
     "data": {
      "text/plain": [
       "collected_videos_count    0\n",
       "collection_time           0\n",
       "influencer_id             0\n",
       "id                        0\n",
       "nickname                  0\n",
       "followers                 0\n",
       "hearts                    0\n",
       "videos_count              0\n",
       "dtype: int64"
      ]
     },
     "execution_count": 71,
     "metadata": {},
     "output_type": "execute_result"
    }
   ],
   "source": [
    "data = df_tiktok_dataset[['collected_videos_count','collection_time','influencer_id','id','nickname', 'followers','hearts', 'videos_count']]\n",
    "data.isnull().sum()"
   ]
  },
  {
   "attachments": {},
   "cell_type": "markdown",
   "metadata": {},
   "source": [
    "Modeling and Viz"
   ]
  },
  {
   "cell_type": "code",
   "execution_count": 73,
   "metadata": {},
   "outputs": [],
   "source": [
    "df_unique_videos = df_tiktok_dataset.drop_duplicates(subset='id', keep=\"first\")"
   ]
  },
  {
   "cell_type": "code",
   "execution_count": 76,
   "metadata": {},
   "outputs": [],
   "source": [
    "# Focus on dataset from 0 till 50.000 likes\n",
    "df_videos_users_focus = df_unique_videos[df_unique_videos['hearts'] >= 10]"
   ]
  },
  {
   "cell_type": "code",
   "execution_count": 78,
   "metadata": {},
   "outputs": [],
   "source": [
    "### get the output df to use in app.py :\n",
    "# Focus on more than 10 data sets of likes\n",
    "df_videos_users_focus = df_unique_videos[df_unique_videos['hearts'] >= 10]\n",
    "df_videos_users_focus.to_csv('df_videos_users_focus.csv',index=False)"
   ]
  }
 ],
 "metadata": {
  "kernelspec": {
   "display_name": "Python 3",
   "language": "python",
   "name": "python3"
  },
  "language_info": {
   "codemirror_mode": {
    "name": "ipython",
    "version": 3
   },
   "file_extension": ".py",
   "mimetype": "text/x-python",
   "name": "python",
   "nbconvert_exporter": "python",
   "pygments_lexer": "ipython3",
   "version": "3.11.2"
  },
  "orig_nbformat": 4
 },
 "nbformat": 4,
 "nbformat_minor": 2
}
