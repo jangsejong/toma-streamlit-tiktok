{
 "cells": [
  {
   "cell_type": "code",
   "execution_count": 45,
   "metadata": {},
   "outputs": [],
   "source": [
    "import numpy as np\n",
    "import pandas as pd \n",
    "import matplotlib.pyplot as plt\n",
    "import streamlit as st"
   ]
  },
  {
   "cell_type": "code",
   "execution_count": 46,
   "metadata": {},
   "outputs": [
    {
     "name": "stderr",
     "output_type": "stream",
     "text": [
      "C:\\Users\\jangs\\AppData\\Local\\Temp\\ipykernel_12632\\3654686385.py:2: DtypeWarning: Columns (3) have mixed types. Specify dtype option on import or set low_memory=False.\n",
      "  tiktok_dataset = pd.read_csv(f'{DATA_PATH}bq-results-20230329-085959-1680080406863.csv', encoding='utf-8')\n"
     ]
    }
   ],
   "source": [
    "DATA_PATH = 'C:/streamlit-tiktok/toma-streamlit-tiktok/toma-streamlit-tiktok/csv/'\n",
    "tiktok_dataset = pd.read_csv(f'{DATA_PATH}bq-results-20230329-085959-1680080406863.csv', encoding='utf-8')"
   ]
  },
  {
   "cell_type": "code",
   "execution_count": 47,
   "metadata": {},
   "outputs": [
    {
     "name": "stdout",
     "output_type": "stream",
     "text": [
      "collected_videos_count에서 결측치 개수 : 6757개\n",
      "  collection_time   에서 결측치 개수 : 6757개\n",
      "   influencer_id    에서 결측치 개수 : 6757개\n",
      " profile_pic_url_hd 에서 결측치 개수 : 83573개\n",
      "         id         에서 결측치 개수 : 6757개\n",
      "      nickname      에서 결측치 개수 : 6757개\n",
      "     followers      에서 결측치 개수 : 6757개\n",
      "       hearts       에서 결측치 개수 : 6757개\n",
      "    videos_count    에서 결측치 개수 : 6757개\n"
     ]
    }
   ],
   "source": [
    "for col in tiktok_dataset.columns:\n",
    "    n_nan = tiktok_dataset[col].isnull().sum()\n",
    "    if n_nan>0:\n",
    "      msg = '{:^20}에서 결측치 개수 : {}개'.format(col,n_nan)\n",
    "      print(msg)"
   ]
  },
  {
   "cell_type": "code",
   "execution_count": 48,
   "metadata": {},
   "outputs": [],
   "source": [
    "dt_tiktok = tiktok_dataset.drop([tiktok_dataset.columns[3]],axis=1)"
   ]
  },
  {
   "cell_type": "code",
   "execution_count": 49,
   "metadata": {},
   "outputs": [
    {
     "data": {
      "text/plain": [
       "(84969, 8)"
      ]
     },
     "execution_count": 49,
     "metadata": {},
     "output_type": "execute_result"
    }
   ],
   "source": [
    "DF_tiktok1 = DF_tiktok[DF_tiktok['influencer_id'].notna()]\n",
    "DF_tiktok1.shape"
   ]
  },
  {
   "cell_type": "code",
   "execution_count": 50,
   "metadata": {},
   "outputs": [
    {
     "name": "stdout",
     "output_type": "stream",
     "text": [
      "결측치가 없습니다.\n",
      "결측치가 없습니다.\n",
      "결측치가 없습니다.\n",
      "결측치가 없습니다.\n",
      "결측치가 없습니다.\n",
      "결측치가 없습니다.\n",
      "결측치가 없습니다.\n",
      "결측치가 없습니다.\n"
     ]
    }
   ],
   "source": [
    "for col in DF_tiktok1.columns:\n",
    "    n_nan = DF_tiktok1[col].isnull().sum()\n",
    "    if n_nan>0:\n",
    "      msg = '{:^20}에서 결측치 개수 : {}개'.format(col,n_nan)\n",
    "      print(msg)\n",
    "    else:\n",
    "      print('결측치가 없습니다.')"
   ]
  },
  {
   "cell_type": "code",
   "execution_count": 51,
   "metadata": {},
   "outputs": [
    {
     "name": "stdout",
     "output_type": "stream",
     "text": [
      "       collected_videos_count  collection_time  influencer_id  \\\n",
      "234                       0.0     1.674149e+12   6.790741e+18   \n",
      "235                       0.0     1.674150e+12   6.541867e+16   \n",
      "236                       0.0     1.674150e+12   6.656208e+18   \n",
      "237                       0.0     1.674149e+12   6.696405e+18   \n",
      "238                       0.0     1.674149e+12   7.103947e+18   \n",
      "...                       ...              ...            ...   \n",
      "91721                    10.0     1.678555e+12   6.735398e+18   \n",
      "91722                    10.0     1.678556e+12   6.786789e+10   \n",
      "91723                    10.0     1.678555e+12   6.698975e+18   \n",
      "91724                    10.0     1.678555e+12   6.795390e+18   \n",
      "91725                    10.0     1.678555e+12   6.740171e+18   \n",
      "\n",
      "                    id         nickname  followers       hearts  videos_count  \n",
      "234        linhngadang    Linh Nga Dang       42.0          0.0           0.0  \n",
      "235         zynzgyniee         Khánh Hà      177.0          0.0           0.0  \n",
      "236       chinghateyou      Ching ching      274.0       1931.0           0.0  \n",
      "237             _myiin     Hương Nguyễn       23.0         95.0           0.0  \n",
      "238            vzminah          vzminah        1.0          0.0           0.0  \n",
      "...                ...              ...        ...          ...           ...  \n",
      "91721  dinhtrangthao03  Đinh Trang Thảo  7700000.0  262000000.0         767.0  \n",
      "91722   thieulan.cameo      Thiếu Lan 🦋     1978.0       8778.0          18.0  \n",
      "91723        1oak.club        1oak.club     8211.0      83900.0          29.0  \n",
      "91724     nhungbumxynk      Nhung Bum 🎀     7793.0     132400.0          40.0  \n",
      "91725     sovintage.vn       Sò Vintage     4996.0        469.0          73.0  \n",
      "\n",
      "[84969 rows x 8 columns]\n"
     ]
    }
   ],
   "source": [
    "DF_tiktok1 = pd.DataFrame(data=DF_tiktok1, index=None, columns=None, dtype=None, copy=False)\n",
    "DF_tiktok1.shape\n",
    "DF_tiktok1.columns\n",
    "print(DF_tiktok1)\n"
   ]
  },
  {
   "cell_type": "code",
   "execution_count": 53,
   "metadata": {},
   "outputs": [],
   "source": [
    "st.title('Tiktok in VIETNAM')\n",
    "\n",
    "DATE_COLUMN = 'collection_time'\t\n"
   ]
  }
 ],
 "metadata": {
  "kernelspec": {
   "display_name": "Python 3",
   "language": "python",
   "name": "python3"
  },
  "language_info": {
   "codemirror_mode": {
    "name": "ipython",
    "version": 3
   },
   "file_extension": ".py",
   "mimetype": "text/x-python",
   "name": "python",
   "nbconvert_exporter": "python",
   "pygments_lexer": "ipython3",
   "version": "3.11.2"
  },
  "orig_nbformat": 4
 },
 "nbformat": 4,
 "nbformat_minor": 2
}
